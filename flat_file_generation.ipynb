{
 "cells": [
  {
   "cell_type": "code",
   "execution_count": 1,
   "metadata": {},
   "outputs": [],
   "source": [
    "import taxcalc as tc\n",
    "from policyengine_us import Microsimulation\n",
    "from policyengine_us.model_api import *\n",
    "import numpy as np\n",
    "import pandas as pd"
   ]
  },
  {
   "cell_type": "code",
   "execution_count": 2,
   "metadata": {},
   "outputs": [
    {
     "data": {
      "text/html": [
       "<div>\n",
       "<style scoped>\n",
       "    .dataframe tbody tr th:only-of-type {\n",
       "        vertical-align: middle;\n",
       "    }\n",
       "\n",
       "    .dataframe tbody tr th {\n",
       "        vertical-align: top;\n",
       "    }\n",
       "\n",
       "    .dataframe thead th {\n",
       "        text-align: right;\n",
       "    }\n",
       "</style>\n",
       "<table border=\"1\" class=\"dataframe\">\n",
       "  <thead>\n",
       "    <tr style=\"text-align: right;\">\n",
       "      <th></th>\n",
       "      <th>RECID</th>\n",
       "      <th>MARS</th>\n",
       "    </tr>\n",
       "  </thead>\n",
       "  <tbody>\n",
       "    <tr>\n",
       "      <th>0</th>\n",
       "      <td>101.0</td>\n",
       "      <td>1.0</td>\n",
       "    </tr>\n",
       "    <tr>\n",
       "      <th>1</th>\n",
       "      <td>201.0</td>\n",
       "      <td>1.0</td>\n",
       "    </tr>\n",
       "    <tr>\n",
       "      <th>2</th>\n",
       "      <td>301.0</td>\n",
       "      <td>5.0</td>\n",
       "    </tr>\n",
       "    <tr>\n",
       "      <th>3</th>\n",
       "      <td>302.0</td>\n",
       "      <td>5.0</td>\n",
       "    </tr>\n",
       "    <tr>\n",
       "      <th>4</th>\n",
       "      <td>401.0</td>\n",
       "      <td>2.0</td>\n",
       "    </tr>\n",
       "    <tr>\n",
       "      <th>...</th>\n",
       "      <td>...</td>\n",
       "      <td>...</td>\n",
       "    </tr>\n",
       "    <tr>\n",
       "      <th>155307</th>\n",
       "      <td>108897504.0</td>\n",
       "      <td>2.0</td>\n",
       "    </tr>\n",
       "    <tr>\n",
       "      <th>155308</th>\n",
       "      <td>108897600.0</td>\n",
       "      <td>2.0</td>\n",
       "    </tr>\n",
       "    <tr>\n",
       "      <th>155309</th>\n",
       "      <td>108897600.0</td>\n",
       "      <td>2.0</td>\n",
       "    </tr>\n",
       "    <tr>\n",
       "      <th>155310</th>\n",
       "      <td>108897704.0</td>\n",
       "      <td>2.0</td>\n",
       "    </tr>\n",
       "    <tr>\n",
       "      <th>155311</th>\n",
       "      <td>108897800.0</td>\n",
       "      <td>2.0</td>\n",
       "    </tr>\n",
       "  </tbody>\n",
       "</table>\n",
       "<p>155312 rows × 2 columns</p>\n",
       "</div>"
      ],
      "text/plain": [
       "              RECID  MARS\n",
       "0             101.0   1.0\n",
       "1             201.0   1.0\n",
       "2             301.0   5.0\n",
       "3             302.0   5.0\n",
       "4             401.0   2.0\n",
       "...             ...   ...\n",
       "155307  108897504.0   2.0\n",
       "155308  108897600.0   2.0\n",
       "155309  108897600.0   2.0\n",
       "155310  108897704.0   2.0\n",
       "155311  108897800.0   2.0\n",
       "\n",
       "[155312 rows x 2 columns]"
      ]
     },
     "execution_count": 2,
     "metadata": {},
     "output_type": "execute_result"
    }
   ],
   "source": [
    "class TaxCalcVariableAlias(Variable):\n",
    "    label = \"TaxCalc Variable Alias\"\n",
    "    definition_period = YEAR\n",
    "    entity = TaxUnit\n",
    "    value_type = float\n",
    "\n",
    "\n",
    "class tc_RECID(TaxCalcVariableAlias):\n",
    "    def formula(tax_unit, period, parameters):\n",
    "        return tax_unit(\"tax_unit_id\", period)\n",
    "\n",
    "\n",
    "class tc_MARS(TaxCalcVariableAlias):\n",
    "    def formula(tax_unit, period, parameters):\n",
    "        filing_status = tax_unit(\"filing_status\", period).decode_to_str()\n",
    "        CODE_MAP = {\n",
    "            \"SINGLE\": 1,\n",
    "            \"JOINT\": 2,\n",
    "            \"SEPARATE\": 3,\n",
    "            \"HEAD_OF_HOUSEHOLD\": 4,\n",
    "            \"WIDOW\": 5,\n",
    "        }\n",
    "        return pd.Series(filing_status).map(CODE_MAP)\n",
    "\n",
    "\n",
    "class taxcalc_extension(Reform):\n",
    "    def apply(self):\n",
    "        self.add_variables(\n",
    "            tc_RECID,\n",
    "            tc_MARS,\n",
    "        )\n",
    "\n",
    "\n",
    "sim = Microsimulation(reform=taxcalc_extension, dataset=\"enhanced_cps_2023\")\n",
    "df = pd.DataFrame()\n",
    "\n",
    "for variable in sim.tax_benefit_system.variables:\n",
    "    if variable.startswith(\"tc_\"):\n",
    "        df[variable[3:]] = sim.calculate(variable)\n",
    "\n",
    "df"
   ]
  },
  {
   "cell_type": "code",
   "execution_count": 3,
   "metadata": {},
   "outputs": [
    {
     "data": {
      "text/plain": [
       "{'__class__': type,\n",
       " '__delattr__': <slot wrapper '__delattr__' of 'object' objects>,\n",
       " '__dict__': mappingproxy({'__module__': '__main__', 'y': 1, '__doc__': None}),\n",
       " '__dir__': <method '__dir__' of 'object' objects>,\n",
       " '__doc__': None,\n",
       " '__eq__': <slot wrapper '__eq__' of 'object' objects>,\n",
       " '__format__': <method '__format__' of 'object' objects>,\n",
       " '__ge__': <slot wrapper '__ge__' of 'object' objects>,\n",
       " '__getattribute__': <slot wrapper '__getattribute__' of 'object' objects>,\n",
       " '__gt__': <slot wrapper '__gt__' of 'object' objects>,\n",
       " '__hash__': <slot wrapper '__hash__' of 'object' objects>,\n",
       " '__init__': <slot wrapper '__init__' of 'object' objects>,\n",
       " '__init_subclass__': <function B.__init_subclass__>,\n",
       " '__le__': <slot wrapper '__le__' of 'object' objects>,\n",
       " '__lt__': <slot wrapper '__lt__' of 'object' objects>,\n",
       " '__module__': '__main__',\n",
       " '__ne__': <slot wrapper '__ne__' of 'object' objects>,\n",
       " '__new__': <function object.__new__(*args, **kwargs)>,\n",
       " '__reduce__': <method '__reduce__' of 'object' objects>,\n",
       " '__reduce_ex__': <method '__reduce_ex__' of 'object' objects>,\n",
       " '__repr__': <slot wrapper '__repr__' of 'object' objects>,\n",
       " '__setattr__': <slot wrapper '__setattr__' of 'object' objects>,\n",
       " '__sizeof__': <method '__sizeof__' of 'object' objects>,\n",
       " '__str__': <slot wrapper '__str__' of 'object' objects>,\n",
       " '__subclasshook__': <function B.__subclasshook__>,\n",
       " '__weakref__': <attribute '__weakref__' of 'A' objects>,\n",
       " 'x': 1,\n",
       " 'y': 1}"
      ]
     },
     "execution_count": 3,
     "metadata": {},
     "output_type": "execute_result"
    }
   ],
   "source": [
    "class A:\n",
    "    x = 1\n",
    "\n",
    "\n",
    "class B(A):\n",
    "    y = 1\n",
    "\n",
    "\n",
    "{key: getattr(B, key) for key in dir(B)}"
   ]
  },
  {
   "cell_type": "code",
   "execution_count": 4,
   "metadata": {},
   "outputs": [],
   "source": [
    "input_data = tc.Records(df)\n",
    "policy = tc.Policy()\n",
    "simulation = tc.Calculator(records=input_data, policy=policy)\n",
    "\n",
    "simulation.calc_all()"
   ]
  },
  {
   "cell_type": "code",
   "execution_count": 5,
   "metadata": {},
   "outputs": [
    {
     "data": {
      "text/plain": [
       "array([      101,       201,       301, ..., 108897600, 108897704,\n",
       "       108897800], dtype=int32)"
      ]
     },
     "execution_count": 5,
     "metadata": {},
     "output_type": "execute_result"
    }
   ],
   "source": [
    "simulation.array(\"RECID\")"
   ]
  }
 ],
 "metadata": {
  "kernelspec": {
   "display_name": "Python 3",
   "language": "python",
   "name": "python3"
  },
  "language_info": {
   "codemirror_mode": {
    "name": "ipython",
    "version": 3
   },
   "file_extension": ".py",
   "mimetype": "text/x-python",
   "name": "python",
   "nbconvert_exporter": "python",
   "pygments_lexer": "ipython3",
   "version": "3.9.12"
  }
 },
 "nbformat": 4,
 "nbformat_minor": 2
}

{
 "cells": [
  {
   "cell_type": "code",
   "execution_count": 1,
   "metadata": {},
   "outputs": [],
   "source": [
    "import taxcalc as tc\n",
    "from policyengine_us import Microsimulation\n",
    "from policyengine_us.model_api import *\n",
    "from policyengine_core.model_api import *\n",
    "import numpy as np\n",
    "import pandas as pd"
   ]
  },
  {
   "cell_type": "code",
   "execution_count": 20,
   "metadata": {},
   "outputs": [],
   "source": [
    "class TaxCalcVariableAlias(Variable):\n",
    "    label = \"TaxCalc Variable Alias\"\n",
    "    definition_period = YEAR\n",
    "    entity = TaxUnit\n",
    "    value_type = float\n",
    "\n",
    "\n",
    "class tc_RECID(TaxCalcVariableAlias):\n",
    "    def formula(tax_unit, period, parameters):\n",
    "        return tax_unit(\"tax_unit_id\", period)\n",
    "\n",
    "\n",
    "class tc_MARS(TaxCalcVariableAlias):\n",
    "    def formula(tax_unit, period, parameters):\n",
    "        filing_status = tax_unit(\"filing_status\", period).decode_to_str()\n",
    "        CODE_MAP = {\n",
    "            \"SINGLE\": 1,\n",
    "            \"JOINT\": 2,\n",
    "            \"SEPARATE\": 3,\n",
    "            \"HEAD_OF_HOUSEHOLD\": 4,\n",
    "            \"WIDOW\": 5,\n",
    "        }\n",
    "        return pd.Series(filing_status).map(CODE_MAP)\n",
    "\n",
    "\n",
    "class tc_e00200p(TaxCalcVariableAlias):\n",
    "    def formula(tax_unit, period, parameters):\n",
    "        person = tax_unit.members\n",
    "        employment_income = person(\"employment_income\", period)\n",
    "        is_tax_unit_head = person(\"is_tax_unit_head\", period)\n",
    "        return tax_unit.sum(employment_income * is_tax_unit_head)\n",
    "\n",
    "\n",
    "class tc_e00200s(TaxCalcVariableAlias):\n",
    "    def formula(tax_unit, period, parameters):\n",
    "        person = tax_unit.members\n",
    "        employment_income = person(\"employment_income\", period)\n",
    "        is_tax_unit_spouse = person(\"is_tax_unit_spouse\", period)\n",
    "        return tax_unit.sum(employment_income * is_tax_unit_spouse)\n",
    "\n",
    "\n",
    "class tc_e00200(TaxCalcVariableAlias):\n",
    "    adds = [\n",
    "        \"tc_e00200p\",\n",
    "        \"tc_e00200s\",\n",
    "    ]\n",
    "\n",
    "\n",
    "class taxcalc_extension(Reform):\n",
    "    def apply(self):\n",
    "        self.add_variables(\n",
    "            tc_RECID,\n",
    "            tc_MARS,\n",
    "            tc_e00200p,\n",
    "            tc_e00200s,\n",
    "            tc_e00200,\n",
    "        )\n",
    "\n",
    "\n",
    "sim = Microsimulation(reform=taxcalc_extension, dataset=\"enhanced_cps_2023\")\n",
    "df = pd.DataFrame()\n",
    "\n",
    "for variable in sim.tax_benefit_system.variables:\n",
    "    if variable.startswith(\"tc_\"):\n",
    "        df[variable[3:]] = sim.calculate(variable).values.astype(np.float64)\n",
    "\n",
    "# Extra quality-control checks to do with different data types, nothing major\n",
    "df.e00200 = df.e00200p + df.e00200s"
   ]
  },
  {
   "cell_type": "code",
   "execution_count": 21,
   "metadata": {},
   "outputs": [],
   "source": [
    "df.to_csv(\"tc_input_test.csv.gz\")"
   ]
  },
  {
   "cell_type": "code",
   "execution_count": 18,
   "metadata": {},
   "outputs": [
    {
     "data": {
      "text/plain": [
       "True"
      ]
     },
     "execution_count": 18,
     "metadata": {},
     "output_type": "execute_result"
    }
   ],
   "source": [
    "df[\"e00200\"] = df[\"e00200p\"] + df[\"e00200s\"]\n",
    "np.allclose(df.e00200, df.e00200p + df.e00200s, rtol=0.0, atol=0.0)"
   ]
  },
  {
   "cell_type": "code",
   "execution_count": 19,
   "metadata": {},
   "outputs": [],
   "source": [
    "input_data = tc.Records(df, 2023)\n",
    "policy = tc.Policy()\n",
    "simulation = tc.Calculator(records=input_data, policy=policy)\n",
    "\n",
    "simulation.calc_all()"
   ]
  },
  {
   "cell_type": "code",
   "execution_count": null,
   "metadata": {},
   "outputs": [
    {
     "data": {
      "text/plain": [
       "array([      101,       201,       301, ..., 108897600, 108897704,\n",
       "       108897800], dtype=int32)"
      ]
     },
     "execution_count": 5,
     "metadata": {},
     "output_type": "execute_result"
    }
   ],
   "source": [
    "simulation.array(\"RECID\")"
   ]
  }
 ],
 "metadata": {
  "kernelspec": {
   "display_name": "Python 3",
   "language": "python",
   "name": "python3"
  },
  "language_info": {
   "codemirror_mode": {
    "name": "ipython",
    "version": 3
   },
   "file_extension": ".py",
   "mimetype": "text/x-python",
   "name": "python",
   "nbconvert_exporter": "python",
   "pygments_lexer": "ipython3",
   "version": "3.9.12"
  }
 },
 "nbformat": 4,
 "nbformat_minor": 2
}

{
 "cells": [
  {
   "cell_type": "code",
   "execution_count": 3,
   "metadata": {},
   "outputs": [],
   "source": [
    "import taxcalc as tc\n",
    "from policyengine_us import Microsimulation\n",
    "from policyengine_us.model_api import *\n",
    "from policyengine_core.model_api import *\n",
    "import numpy as np\n",
    "import pandas as pd"
   ]
  },
  {
   "cell_type": "code",
   "execution_count": 26,
   "metadata": {},
   "outputs": [
    {
     "data": {
      "text/html": [
       "<div>\n",
       "<style scoped>\n",
       "    .dataframe tbody tr th:only-of-type {\n",
       "        vertical-align: middle;\n",
       "    }\n",
       "\n",
       "    .dataframe tbody tr th {\n",
       "        vertical-align: top;\n",
       "    }\n",
       "\n",
       "    .dataframe thead th {\n",
       "        text-align: right;\n",
       "    }\n",
       "</style>\n",
       "<table border=\"1\" class=\"dataframe\">\n",
       "  <thead>\n",
       "    <tr style=\"text-align: right;\">\n",
       "      <th></th>\n",
       "      <th>RECID</th>\n",
       "      <th>MARS</th>\n",
       "      <th>e00200p</th>\n",
       "      <th>e00200s</th>\n",
       "      <th>e00200</th>\n",
       "    </tr>\n",
       "  </thead>\n",
       "  <tbody>\n",
       "    <tr>\n",
       "      <th>0</th>\n",
       "      <td>101.0</td>\n",
       "      <td>1.0</td>\n",
       "      <td>0.000000</td>\n",
       "      <td>0.000000</td>\n",
       "      <td>0.0</td>\n",
       "    </tr>\n",
       "    <tr>\n",
       "      <th>1</th>\n",
       "      <td>201.0</td>\n",
       "      <td>1.0</td>\n",
       "      <td>0.000000</td>\n",
       "      <td>0.000000</td>\n",
       "      <td>0.0</td>\n",
       "    </tr>\n",
       "    <tr>\n",
       "      <th>2</th>\n",
       "      <td>301.0</td>\n",
       "      <td>5.0</td>\n",
       "      <td>0.000000</td>\n",
       "      <td>0.000000</td>\n",
       "      <td>0.0</td>\n",
       "    </tr>\n",
       "    <tr>\n",
       "      <th>3</th>\n",
       "      <td>302.0</td>\n",
       "      <td>5.0</td>\n",
       "      <td>0.000000</td>\n",
       "      <td>0.000000</td>\n",
       "      <td>0.0</td>\n",
       "    </tr>\n",
       "    <tr>\n",
       "      <th>4</th>\n",
       "      <td>401.0</td>\n",
       "      <td>2.0</td>\n",
       "      <td>0.000000</td>\n",
       "      <td>42000.000000</td>\n",
       "      <td>42000.0</td>\n",
       "    </tr>\n",
       "    <tr>\n",
       "      <th>...</th>\n",
       "      <td>...</td>\n",
       "      <td>...</td>\n",
       "      <td>...</td>\n",
       "      <td>...</td>\n",
       "      <td>...</td>\n",
       "    </tr>\n",
       "    <tr>\n",
       "      <th>155307</th>\n",
       "      <td>108897504.0</td>\n",
       "      <td>2.0</td>\n",
       "      <td>93456.140625</td>\n",
       "      <td>118049.859375</td>\n",
       "      <td>211506.0</td>\n",
       "    </tr>\n",
       "    <tr>\n",
       "      <th>155308</th>\n",
       "      <td>108897600.0</td>\n",
       "      <td>2.0</td>\n",
       "      <td>79172.000000</td>\n",
       "      <td>0.000000</td>\n",
       "      <td>79172.0</td>\n",
       "    </tr>\n",
       "    <tr>\n",
       "      <th>155309</th>\n",
       "      <td>108897600.0</td>\n",
       "      <td>2.0</td>\n",
       "      <td>166321.203125</td>\n",
       "      <td>110880.796875</td>\n",
       "      <td>277202.0</td>\n",
       "    </tr>\n",
       "    <tr>\n",
       "      <th>155310</th>\n",
       "      <td>108897704.0</td>\n",
       "      <td>2.0</td>\n",
       "      <td>335500.000000</td>\n",
       "      <td>268400.000000</td>\n",
       "      <td>603900.0</td>\n",
       "    </tr>\n",
       "    <tr>\n",
       "      <th>155311</th>\n",
       "      <td>108897800.0</td>\n",
       "      <td>2.0</td>\n",
       "      <td>929800.437500</td>\n",
       "      <td>393377.125000</td>\n",
       "      <td>1323177.5</td>\n",
       "    </tr>\n",
       "  </tbody>\n",
       "</table>\n",
       "<p>155312 rows × 5 columns</p>\n",
       "</div>"
      ],
      "text/plain": [
       "              RECID  MARS        e00200p        e00200s     e00200\n",
       "0             101.0   1.0       0.000000       0.000000        0.0\n",
       "1             201.0   1.0       0.000000       0.000000        0.0\n",
       "2             301.0   5.0       0.000000       0.000000        0.0\n",
       "3             302.0   5.0       0.000000       0.000000        0.0\n",
       "4             401.0   2.0       0.000000   42000.000000    42000.0\n",
       "...             ...   ...            ...            ...        ...\n",
       "155307  108897504.0   2.0   93456.140625  118049.859375   211506.0\n",
       "155308  108897600.0   2.0   79172.000000       0.000000    79172.0\n",
       "155309  108897600.0   2.0  166321.203125  110880.796875   277202.0\n",
       "155310  108897704.0   2.0  335500.000000  268400.000000   603900.0\n",
       "155311  108897800.0   2.0  929800.437500  393377.125000  1323177.5\n",
       "\n",
       "[155312 rows x 5 columns]"
      ]
     },
     "execution_count": 26,
     "metadata": {},
     "output_type": "execute_result"
    }
   ],
   "source": [
    "class TaxCalcVariableAlias(Variable):\n",
    "    label = \"TaxCalc Variable Alias\"\n",
    "    definition_period = YEAR\n",
    "    entity = TaxUnit\n",
    "    value_type = float\n",
    "\n",
    "\n",
    "class tc_RECID(TaxCalcVariableAlias):\n",
    "    def formula(tax_unit, period, parameters):\n",
    "        return tax_unit(\"tax_unit_id\", period)\n",
    "\n",
    "\n",
    "class tc_MARS(TaxCalcVariableAlias):\n",
    "    def formula(tax_unit, period, parameters):\n",
    "        filing_status = tax_unit(\"filing_status\", period).decode_to_str()\n",
    "        CODE_MAP = {\n",
    "            \"SINGLE\": 1,\n",
    "            \"JOINT\": 2,\n",
    "            \"SEPARATE\": 3,\n",
    "            \"HEAD_OF_HOUSEHOLD\": 4,\n",
    "            \"WIDOW\": 5,\n",
    "        }\n",
    "        return pd.Series(filing_status).map(CODE_MAP)\n",
    "    \n",
    "class tc_e00200p(TaxCalcVariableAlias):\n",
    "    def formula(tax_unit, period, parameters):\n",
    "        person = tax_unit.members\n",
    "        employment_income = person(\"employment_income\", period)\n",
    "        is_tax_unit_head = person(\"is_tax_unit_head\", period)\n",
    "        return tax_unit.sum(employment_income * is_tax_unit_head)\n",
    "\n",
    "class tc_e00200s(TaxCalcVariableAlias):\n",
    "    def formula(tax_unit, period, parameters):\n",
    "        person = tax_unit.members\n",
    "        employment_income = person(\"employment_income\", period)\n",
    "        is_tax_unit_spouse = person(\"is_tax_unit_spouse\", period)\n",
    "        return tax_unit.sum(employment_income * is_tax_unit_spouse)\n",
    "\n",
    "class tc_e00200(TaxCalcVariableAlias):\n",
    "    adds = [\n",
    "        \"tc_e00200p\",\n",
    "        \"tc_e00200s\",\n",
    "    ]\n",
    "\n",
    "class taxcalc_extension(Reform):\n",
    "    def apply(self):\n",
    "        self.add_variables(\n",
    "            tc_RECID,\n",
    "            tc_MARS,\n",
    "            tc_e00200p,\n",
    "            tc_e00200s,\n",
    "            tc_e00200,\n",
    "        )\n",
    "\n",
    "\n",
    "sim = Microsimulation(reform=taxcalc_extension, dataset=\"enhanced_cps_2023\")\n",
    "df = pd.DataFrame()\n",
    "\n",
    "for variable in sim.tax_benefit_system.variables:\n",
    "    if variable.startswith(\"tc_\"):\n",
    "        df[variable[3:]] = sim.calculate(variable)\n",
    "\n",
    "df"
   ]
  },
  {
   "cell_type": "code",
   "execution_count": 29,
   "metadata": {},
   "outputs": [
    {
     "data": {
      "text/plain": [
       "True"
      ]
     },
     "execution_count": 29,
     "metadata": {},
     "output_type": "execute_result"
    }
   ],
   "source": [
    "np.allclose(df[\"e00200\"], df[\"e00200p\"] + df[\"e00200s\"])"
   ]
  },
  {
   "cell_type": "code",
   "execution_count": 30,
   "metadata": {},
   "outputs": [
    {
     "ename": "ValueError",
     "evalue": "expression \"e00200 == e00200p + e00200s\" is not true for every record",
     "output_type": "error",
     "traceback": [
      "\u001b[0;31m---------------------------------------------------------------------------\u001b[0m",
      "\u001b[0;31mValueError\u001b[0m                                Traceback (most recent call last)",
      "Cell \u001b[0;32mIn[30], line 1\u001b[0m\n\u001b[0;32m----> 1\u001b[0m input_data \u001b[38;5;241m=\u001b[39m \u001b[43mtc\u001b[49m\u001b[38;5;241;43m.\u001b[39;49m\u001b[43mRecords\u001b[49m\u001b[43m(\u001b[49m\u001b[43mdf\u001b[49m\u001b[43m,\u001b[49m\u001b[43m \u001b[49m\u001b[38;5;241;43m2023\u001b[39;49m\u001b[43m)\u001b[49m\n\u001b[1;32m      2\u001b[0m policy \u001b[38;5;241m=\u001b[39m tc\u001b[38;5;241m.\u001b[39mPolicy()\n\u001b[1;32m      3\u001b[0m simulation \u001b[38;5;241m=\u001b[39m tc\u001b[38;5;241m.\u001b[39mCalculator(records\u001b[38;5;241m=\u001b[39minput_data, policy\u001b[38;5;241m=\u001b[39mpolicy)\n",
      "File \u001b[0;32m~/policyengine/Tax-Calculator/taxcalc/records.py:155\u001b[0m, in \u001b[0;36mRecords.__init__\u001b[0;34m(self, data, start_year, gfactors, weights, adjust_ratios, exact_calculations)\u001b[0m\n\u001b[1;32m    152\u001b[0m tol \u001b[38;5;241m=\u001b[39m \u001b[38;5;241m0.020001\u001b[39m  \u001b[38;5;66;03m# handles \"%.2f\" rounding errors\u001b[39;00m\n\u001b[1;32m    153\u001b[0m \u001b[38;5;28;01mif\u001b[39;00m \u001b[38;5;129;01mnot\u001b[39;00m np\u001b[38;5;241m.\u001b[39mallclose(\u001b[38;5;28mself\u001b[39m\u001b[38;5;241m.\u001b[39me00200, (\u001b[38;5;28mself\u001b[39m\u001b[38;5;241m.\u001b[39me00200p \u001b[38;5;241m+\u001b[39m \u001b[38;5;28mself\u001b[39m\u001b[38;5;241m.\u001b[39me00200s),\n\u001b[1;32m    154\u001b[0m                    rtol\u001b[38;5;241m=\u001b[39m\u001b[38;5;241m0.0\u001b[39m, atol\u001b[38;5;241m=\u001b[39mtol):\n\u001b[0;32m--> 155\u001b[0m     \u001b[38;5;28;01mraise\u001b[39;00m \u001b[38;5;167;01mValueError\u001b[39;00m(msg\u001b[38;5;241m.\u001b[39mformat(\u001b[38;5;124m'\u001b[39m\u001b[38;5;124me00200\u001b[39m\u001b[38;5;124m'\u001b[39m))\n\u001b[1;32m    156\u001b[0m \u001b[38;5;28;01mif\u001b[39;00m \u001b[38;5;129;01mnot\u001b[39;00m np\u001b[38;5;241m.\u001b[39mallclose(\u001b[38;5;28mself\u001b[39m\u001b[38;5;241m.\u001b[39me00900, (\u001b[38;5;28mself\u001b[39m\u001b[38;5;241m.\u001b[39me00900p \u001b[38;5;241m+\u001b[39m \u001b[38;5;28mself\u001b[39m\u001b[38;5;241m.\u001b[39me00900s),\n\u001b[1;32m    157\u001b[0m                    rtol\u001b[38;5;241m=\u001b[39m\u001b[38;5;241m0.0\u001b[39m, atol\u001b[38;5;241m=\u001b[39mtol):\n\u001b[1;32m    158\u001b[0m     \u001b[38;5;28;01mraise\u001b[39;00m \u001b[38;5;167;01mValueError\u001b[39;00m(msg\u001b[38;5;241m.\u001b[39mformat(\u001b[38;5;124m'\u001b[39m\u001b[38;5;124me00900\u001b[39m\u001b[38;5;124m'\u001b[39m))\n",
      "\u001b[0;31mValueError\u001b[0m: expression \"e00200 == e00200p + e00200s\" is not true for every record"
     ]
    }
   ],
   "source": [
    "input_data = tc.Records(df, 2023)\n",
    "policy = tc.Policy()\n",
    "simulation = tc.Calculator(records=input_data, policy=policy)\n",
    "\n",
    "simulation.calc_all()"
   ]
  },
  {
   "cell_type": "code",
   "execution_count": 5,
   "metadata": {},
   "outputs": [
    {
     "data": {
      "text/plain": [
       "array([      101,       201,       301, ..., 108897600, 108897704,\n",
       "       108897800], dtype=int32)"
      ]
     },
     "execution_count": 5,
     "metadata": {},
     "output_type": "execute_result"
    }
   ],
   "source": [
    "simulation.array(\"RECID\")"
   ]
  }
 ],
 "metadata": {
  "kernelspec": {
   "display_name": "Python 3",
   "language": "python",
   "name": "python3"
  },
  "language_info": {
   "codemirror_mode": {
    "name": "ipython",
    "version": 3
   },
   "file_extension": ".py",
   "mimetype": "text/x-python",
   "name": "python",
   "nbconvert_exporter": "python",
   "pygments_lexer": "ipython3",
   "version": "3.9.12"
  }
 },
 "nbformat": 4,
 "nbformat_minor": 2
}

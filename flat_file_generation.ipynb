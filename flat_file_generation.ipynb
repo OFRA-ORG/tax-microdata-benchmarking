{
 "cells": [
  {
   "cell_type": "code",
   "execution_count": 3,
   "metadata": {},
   "outputs": [],
   "source": [
    "import h5py\n",
    "import requests\n",
    "\n",
    "def download_github_release(url: str = None, file_path: str = None):\n",
    "    \"\"\"Downloads a file to the dataset's file path.\n",
    "\n",
    "    Args:\n",
    "        url (str): The url to download.\n",
    "    \"\"\"\n",
    "\n",
    "    # \"release://\" is a special protocol for downloading from GitHub releases\n",
    "    # e.g. release://policyengine/policyengine-us/cps-2023/cps_2023.h5\n",
    "    # release://org/repo/release_tag/file_path\n",
    "    # Use the GitHub API to get the download URL for the release asset\n",
    "\n",
    "    org, repo, release_tag, file_path = url.split(\"/\")[2:]\n",
    "    url = f\"https://api.github.com/repos/{org}/{repo}/releases/tags/{release_tag}\"\n",
    "    response = requests.get(url)\n",
    "    if response.status_code != 200:\n",
    "        raise ValueError(\n",
    "            f\"Invalid response code {response.status_code} for url {url}.\"\n",
    "        )\n",
    "    assets = response.json()[\"assets\"]\n",
    "    for asset in assets:\n",
    "        if asset[\"name\"] == file_path:\n",
    "            url = asset[\"url\"]\n",
    "            break\n",
    "    else:\n",
    "        raise ValueError(\n",
    "            f\"File {file_path} not found in release {release_tag} of {org}/{repo}.\"\n",
    "        )\n",
    "\n",
    "    response = requests.get(\n",
    "        url,\n",
    "        headers={\n",
    "            \"Accept\": \"application/octet-stream\",\n",
    "        },\n",
    "    )\n",
    "\n",
    "    if response.status_code != 200:\n",
    "        raise ValueError(\n",
    "            f\"Invalid response code {response.status_code} for url {url}.\"\n",
    "        )\n",
    "\n",
    "    with open(file_path, \"wb\") as f:\n",
    "        f.write(response.content)\n",
    "\n",
    "download_github_release(\"release://policyengine/policyengine-us/cps-2023/cps_2023.h5\", \"cps_2023.h5\")"
   ]
  }
 ],
 "metadata": {
  "kernelspec": {
   "display_name": "Python 3",
   "language": "python",
   "name": "python3"
  },
  "language_info": {
   "codemirror_mode": {
    "name": "ipython",
    "version": 3
   },
   "file_extension": ".py",
   "mimetype": "text/x-python",
   "name": "python",
   "nbconvert_exporter": "python",
   "pygments_lexer": "ipython3",
   "version": "3.9.12"
  }
 },
 "nbformat": 4,
 "nbformat_minor": 2
}
